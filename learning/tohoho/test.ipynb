{
 "cells": [
  {
   "cell_type": "code",
   "execution_count": null,
   "metadata": {},
   "outputs": [],
   "source": [
    "print(\"Hello world!\")"
   ]
  },
  {
   "cell_type": "code",
   "execution_count": null,
   "metadata": {},
   "outputs": [],
   "source": [
    "a = 5\n",
    "b = 3\n",
    "c = a + b\n",
    "print(c)"
   ]
  },
  {
   "cell_type": "code",
   "execution_count": null,
   "metadata": {},
   "outputs": [],
   "source": [
    "total = 123 \\\n",
    "      + 456 \\\n",
    "      + 789"
   ]
  },
  {
   "cell_type": "code",
   "execution_count": null,
   "metadata": {},
   "outputs": [],
   "source": [
    "month = [ 'Jan', 'Feb', 'Mar', 'Apr'\n",
    "          'May', 'Jun', 'Jul', 'Aug'\n",
    "          'Sep', 'Oct', 'Nov', 'Dec' ]"
   ]
  },
  {
   "cell_type": "code",
   "execution_count": null,
   "metadata": {},
   "outputs": [],
   "source": [
    "# comment text\n",
    "a = 3\n",
    "if a == 5:\n",
    "    print(\"AAA\")\n",
    "    print(\"BBB\")\n",
    "print(\"CCC\")"
   ]
  },
  {
   "cell_type": "code",
   "execution_count": null,
   "metadata": {},
   "outputs": [],
   "source": [
    "print(3)\n",
    "print([ 1, 2, 3 ])\n",
    "print(( 1, 2, 3 ))\n",
    "print({ 'k1': 10, 'k2': 20 })\n",
    "print(\"AAA\", \"BBB\")"
   ]
  },
  {
   "cell_type": "code",
   "execution_count": null,
   "metadata": {},
   "outputs": [],
   "source": [
    "print(\"My name is %s.\" % \"Tanaka\")\n",
    "print(\"%s is %d years old.\" % ( \"Tanaka\", 28 ))\n",
    "print(\"%(name)s is %(age)d years old.\" % { 'name': \"Tanaka\", 'age': 28 })"
   ]
  },
  {
   "cell_type": "code",
   "execution_count": null,
   "metadata": {},
   "outputs": [],
   "source": [
    "f = open(\"test.txt\", \"w\")\n",
    "print(\"Hello world!\", file=f)\n",
    "f.close()"
   ]
  },
  {
   "cell_type": "code",
   "execution_count": null,
   "metadata": {},
   "outputs": [],
   "source": [
    "num = 0b11000100 # binary digits\n",
    "print(num)\n",
    "num = 0o777 # octal\n",
    "print(num)\n",
    "num = 0xffff # hexadecimal\n",
    "print(num)\n",
    "\n",
    "num = 2_1\n",
    "print(num)\n",
    "\n",
    "num = 1.2345\n",
    "print(num)\n",
    "num = 1.2e3 # = 1.2 * 10^3\n",
    "print(num)\n",
    "num = 1.2E-3 # 1.2 * 10^(-3)\n",
    "print(num)\n",
    "\n",
    "num = 3.14j\n",
    "print(num)\n",
    "\n"
   ]
  },
  {
   "cell_type": "code",
   "execution_count": null,
   "metadata": {},
   "outputs": [],
   "source": [
    "bool = True\n",
    "bool = False\n",
    "\n",
    "x = None\n",
    "\n",
    "str = \"'\"\n",
    "str = '\"'\n",
    "\n",
    "str = \"line\\n\"\n",
    "str = r\"line\\n\""
   ]
  },
  {
   "cell_type": "code",
   "execution_count": null,
   "metadata": {},
   "outputs": [],
   "source": [
    "name = \"Yamada\"\n",
    "age = 26\n",
    "print(f\"My name is {name}. I'm {age} years old.\")\n"
   ]
  },
  {
   "cell_type": "code",
   "execution_count": null,
   "metadata": {},
   "outputs": [],
   "source": [
    "import math\n",
    "a = 5\n",
    "b = 3\n",
    "print(f\"{ a + b }\")\n",
    "print(f\"{ math.pow(a, b) }\")"
   ]
  },
  {
   "cell_type": "code",
   "execution_count": null,
   "metadata": {},
   "outputs": [],
   "source": [
    "print(\"{{n}}\")"
   ]
  },
  {
   "cell_type": "code",
   "execution_count": null,
   "metadata": {},
   "outputs": [],
   "source": [
    "s = \"ABC\"\n",
    "print(f\"|{s:<9}|\")\n",
    "print(f\"|{s:^9}|\")\n",
    "print(f\"|{s:>9}|\")"
   ]
  },
  {
   "cell_type": "code",
   "execution_count": 9,
   "metadata": {},
   "outputs": [
    {
     "name": "stdout",
     "output_type": "stream",
     "text": [
      "12,345\n"
     ]
    }
   ],
   "source": [
    "n = 12345\n",
    "print(f\"{n:,}\")"
   ]
  },
  {
   "cell_type": "code",
   "execution_count": null,
   "metadata": {},
   "outputs": [],
   "source": [
    "n = 123\n",
    "print(f\"{n}\")\n",
    "print(f\"{n:b}\") # decimal\n",
    "print(f\"{n:o}\") # octal\n",
    "print(f\"{n:x}\") # hexadecimal lower-case letters\n",
    "print(f\"{n:X}\") # hexadecimal capital letters"
   ]
  },
  {
   "cell_type": "code",
   "execution_count": null,
   "metadata": {},
   "outputs": [],
   "source": [
    "value = \"Hello world!\"\n",
    "print(f\"{value!s}\")\n",
    "print(f\"{value!r}\")\n",
    "print(f\"{value!a}\")\n",
    "\n",
    "name = \"Yamada\"\n",
    "age = 36\n",
    "print(f\"{name=}, {age=}\")"
   ]
  },
  {
   "cell_type": "code",
   "execution_count": 10,
   "metadata": {},
   "outputs": [
    {
     "name": "stdout",
     "output_type": "stream",
     "text": [
      "2024-01-31 23:59:59\n",
      "2024/01/31 23:59:59\n"
     ]
    }
   ],
   "source": [
    "import datetime\n",
    "\n",
    "d = datetime.datetime(2024, 1, 31, 23, 59, 59)\n",
    "print(f\"{d}\")\n",
    "print(f\"{d:%Y/%m/%d %H:%M:%S}\")"
   ]
  },
  {
   "cell_type": "code",
   "execution_count": 11,
   "metadata": {},
   "outputs": [
    {
     "name": "stdout",
     "output_type": "stream",
     "text": [
      "あ\n",
      "b'\\xe3\\x81\\x82'\n"
     ]
    }
   ],
   "source": [
    "byte_string = b\"\\xe3\\x81\\x82\"\n",
    "utf8_string = byte_string.decode()\n",
    "print(utf8_string)\n",
    "\n",
    "utf8_string = \"あ\"\n",
    "byte_string = utf8_string.encode()\n",
    "print(byte_string)"
   ]
  },
  {
   "cell_type": "code",
   "execution_count": null,
   "metadata": {},
   "outputs": [],
   "source": [
    "num = 12\n",
    "if num > 10:\n",
    "    print(\"n is BIG\")\n",
    "elif num == 10:\n",
    "    print(\"n is NORMAL\")\n",
    "else:\n",
    "    print(\"n is SMALL\")"
   ]
  },
  {
   "cell_type": "code",
   "execution_count": null,
   "metadata": {},
   "outputs": [],
   "source": [
    "n = 0\n",
    "while n < 10:\n",
    "    print(n)\n",
    "    n += 1\n",
    "else:\n",
    "    print(\"END\")"
   ]
  },
  {
   "cell_type": "code",
   "execution_count": null,
   "metadata": {},
   "outputs": [],
   "source": [
    "for n in [1, 2, 3]:\n",
    "    print(n)\n",
    "\n",
    "for n in (1, 2, 3):\n",
    "    print(n)\n",
    "\n",
    "for c in \"ABC\":\n",
    "    print(c)\n",
    "\n",
    "for k in {'one': 1, 'two': 2, 'three': 3}:\n",
    "    print(k)\n",
    "\n",
    "for n in range(10):\n",
    "    if n == 5:\n",
    "        break\n",
    "    print(n)"
   ]
  },
  {
   "cell_type": "code",
   "execution_count": 3,
   "metadata": {},
   "outputs": [
    {
     "name": "stdout",
     "output_type": "stream",
     "text": [
      "0\n",
      "1\n",
      "2\n",
      "3\n",
      "4\n"
     ]
    }
   ],
   "source": [
    "for n in range(10):\n",
    "    if n == 5:\n",
    "        break\n",
    "    print(n)"
   ]
  },
  {
   "cell_type": "code",
   "execution_count": 4,
   "metadata": {},
   "outputs": [
    {
     "name": "stdout",
     "output_type": "stream",
     "text": [
      "0\n",
      "1\n",
      "2\n",
      "3\n",
      "4\n",
      "6\n",
      "7\n",
      "8\n",
      "9\n"
     ]
    }
   ],
   "source": [
    "for n in range(10):\n",
    "    if n == 5:\n",
    "        continue\n",
    "    print(n)"
   ]
  },
  {
   "cell_type": "markdown",
   "metadata": {},
   "source": [
    "try, except, else, finally"
   ]
  },
  {
   "cell_type": "code",
   "execution_count": 1,
   "metadata": {},
   "outputs": [
    {
     "name": "stdout",
     "output_type": "stream",
     "text": [
      "IndexError\n",
      "Finally\n"
     ]
    }
   ],
   "source": [
    "str = 'ABC'\n",
    "try:\n",
    "    c = str[5]\n",
    "except IOError:\n",
    "    print('IOError')\n",
    "except IndexError:\n",
    "    print('IndexError')\n",
    "else:\n",
    "    print('Other')\n",
    "finally:\n",
    "    print('Finally')"
   ]
  },
  {
   "cell_type": "markdown",
   "metadata": {},
   "source": [
    "as e"
   ]
  },
  {
   "cell_type": "code",
   "execution_count": 5,
   "metadata": {},
   "outputs": [],
   "source": [
    "try:\n",
    "    pass\n",
    "    # something\n",
    "except SystemError as e:\n",
    "    print(\"SystemError\")\n",
    "    print(e)"
   ]
  },
  {
   "cell_type": "code",
   "execution_count": 6,
   "metadata": {},
   "outputs": [
    {
     "name": "stdout",
     "output_type": "stream",
     "text": [
      "MyError\n",
      "test.txt\n",
      "1163\n"
     ]
    }
   ],
   "source": [
    "class MyError(Exception):\n",
    "    def __init__(self, file, lineno):\n",
    "        self.file = file\n",
    "        self.lineno = lineno\n",
    "try:\n",
    "    raise MyError(\"test.txt\", 1163)\n",
    "except MyError as e:\n",
    "    print(\"MyError\")\n",
    "    print(e.file)\n",
    "    print(e.lineno)"
   ]
  },
  {
   "cell_type": "markdown",
   "metadata": {},
   "source": [
    "with"
   ]
  },
  {
   "cell_type": "code",
   "execution_count": 12,
   "metadata": {},
   "outputs": [
    {
     "name": "stdout",
     "output_type": "stream",
     "text": [
      "this is test\n",
      "this is test\n",
      "this is test\n"
     ]
    }
   ],
   "source": [
    "# not using `with`\n",
    "f = open(\"test.txt\")\n",
    "print(f.read())\n",
    "f.close()\n",
    "\n",
    "# using `with` case 1\n",
    "with open(\"test.txt\") as f:\n",
    "    print(f.read())\n",
    "\n",
    "# using `with`\n",
    "f = open(\"test.txt\")\n",
    "with f:\n",
    "    print(f.read())"
   ]
  },
  {
   "cell_type": "markdown",
   "metadata": {},
   "source": [
    "assert"
   ]
  },
  {
   "cell_type": "code",
   "execution_count": null,
   "metadata": {},
   "outputs": [],
   "source": [
    "def func():\n",
    "    print(\"\")\n",
    "\n",
    "f = func()\n",
    "assert f == 5"
   ]
  },
  {
   "cell_type": "code",
   "execution_count": null,
   "metadata": {},
   "outputs": [],
   "source": [
    "expression = 5\n",
    "\n",
    "# below code equals `assert expression`\n",
    "if __debug__:\n",
    "    if not expression:\n",
    "        raise AssertionError\n",
    "\n",
    "# below code equals `assert expression1, expression2`\n",
    "expression1 = 5\n",
    "expression2 = 5\n",
    "if __debug__:\n",
    "    if not expression1:\n",
    "        raise AssertionError(expression2)\n"
   ]
  },
  {
   "cell_type": "code",
   "execution_count": 16,
   "metadata": {},
   "outputs": [],
   "source": [
    "def myfunc():\n",
    "    pass\n",
    "\n",
    "class MyClass:\n",
    "    pass\n",
    "\n",
    "x = 5\n",
    "y = [1, 2, 3]\n",
    "z = MyClass()\n",
    "del x, y, z"
   ]
  },
  {
   "cell_type": "code",
   "execution_count": 17,
   "metadata": {},
   "outputs": [
    {
     "name": "stdout",
     "output_type": "stream",
     "text": [
      "Hello\n"
     ]
    }
   ],
   "source": [
    "exec(\"print('Hello')\")"
   ]
  },
  {
   "cell_type": "code",
   "execution_count": 18,
   "metadata": {},
   "outputs": [
    {
     "name": "stdout",
     "output_type": "stream",
     "text": [
      "100 200\n"
     ]
    }
   ],
   "source": [
    "exec(\"print(global_x, local_y)\", {'global_x': 100}, {'local_y': 200})"
   ]
  },
  {
   "cell_type": "code",
   "execution_count": 20,
   "metadata": {},
   "outputs": [
    {
     "name": "stdout",
     "output_type": "stream",
     "text": [
      "three\n",
      "this is test!\n"
     ]
    }
   ],
   "source": [
    "c = 3\n",
    "match c:\n",
    "    case 1:\n",
    "        print(\"one\")\n",
    "    case 2:\n",
    "        print(\"two\")\n",
    "    case 3:\n",
    "        print(\"three\")\n",
    "    case _:\n",
    "        print(\"other\")\n",
    "\n",
    "string = \"テスト\"\n",
    "match string:\n",
    "    case \"\":\n",
    "        print(\"space\")\n",
    "    case \"テスト\":\n",
    "        print(\"this is test!\")\n",
    "    case _:\n",
    "        print(\"this is not テスト\")"
   ]
  },
  {
   "cell_type": "markdown",
   "metadata": {},
   "source": [
    "async, await"
   ]
  },
  {
   "cell_type": "code",
   "execution_count": 26,
   "metadata": {},
   "outputs": [
    {
     "name": "stdout",
     "output_type": "stream",
     "text": [
      "main() START\n",
      "getsize(https://www.yahoo.co.jp/) START\n",
      "getsize(https://www.google.com) START\n",
      "getsize(https://www.wikipedia.com) START\n",
      "getsize(https://www.yahoo.co.jp/) END 32854 bytes\n",
      "getsize(https://www.google.com) END 19867 bytes\n",
      "getsize(https://www.wikipedia.com) END 78804 bytes\n",
      "main() END\n"
     ]
    }
   ],
   "source": [
    "import asyncio\n",
    "import requests\n",
    "import nest_asyncio\n",
    "\n",
    "nest_asyncio.apply()\n",
    "\n",
    "urls = [\n",
    "    \"https://www.yahoo.co.jp/\",\n",
    "    \"https://www.google.com\",\n",
    "    \"https://www.wikipedia.com\",\n",
    "]\n",
    "\n",
    "async def getsize(url):\n",
    "    print(f\"getsize({url}) START\")\n",
    "    loop = asyncio.get_event_loop()\n",
    "    r = await loop.run_in_executor(None, requests.get, url)\n",
    "    print(f\"getsize({url}) END {len(r.text)} bytes\")\n",
    "\n",
    "async def main():\n",
    "    print('main() START')\n",
    "    tasks = [asyncio.create_task(getsize(url)) for url in urls]\n",
    "    await asyncio.gather(*tasks)\n",
    "    print('main() END')\n",
    "\n",
    "if __name__ == \"__main__\":\n",
    "    loop = asyncio.get_event_loop()\n",
    "    loop.run_until_complete(main())"
   ]
  },
  {
   "cell_type": "code",
   "execution_count": 28,
   "metadata": {},
   "outputs": [
    {
     "name": "stdout",
     "output_type": "stream",
     "text": [
      "8\n"
     ]
    }
   ],
   "source": [
    "def add(x, y):\n",
    "    print(x + y)\n",
    "\n",
    "add(3, 5)"
   ]
  },
  {
   "cell_type": "code",
   "execution_count": 30,
   "metadata": {},
   "outputs": [
    {
     "name": "stdout",
     "output_type": "stream",
     "text": [
      "8\n"
     ]
    }
   ],
   "source": [
    "def add(x, y):\n",
    "    ans = x + y\n",
    "    return ans\n",
    "\n",
    "n = add(3, 5)\n",
    "print(n)"
   ]
  },
  {
   "cell_type": "code",
   "execution_count": 32,
   "metadata": {},
   "outputs": [
    {
     "name": "stdout",
     "output_type": "stream",
     "text": [
      "3 ABC\n"
     ]
    }
   ],
   "source": [
    "def func():\n",
    "    return 3, \"ABC\"\n",
    "\n",
    "n, s = func()\n",
    "print(n, s)"
   ]
  },
  {
   "cell_type": "code",
   "execution_count": 33,
   "metadata": {},
   "outputs": [
    {
     "name": "stdout",
     "output_type": "stream",
     "text": [
      "Hello\n",
      "Hello\n",
      "Hello\n",
      "Yahho\n",
      "Yahho\n",
      "Yahho\n",
      "Yahho\n",
      "Yahho\n"
     ]
    }
   ],
   "source": [
    "def repeat_msg(msg, repeat=3):\n",
    "    for i in range(repeat):\n",
    "        print(msg)\n",
    "\n",
    "repeat_msg('Hello')\n",
    "repeat_msg('Yahho', repeat=5)"
   ]
  }
 ],
 "metadata": {
  "kernelspec": {
   "display_name": ".venv",
   "language": "python",
   "name": "python3"
  },
  "language_info": {
   "codemirror_mode": {
    "name": "ipython",
    "version": 3
   },
   "file_extension": ".py",
   "mimetype": "text/x-python",
   "name": "python",
   "nbconvert_exporter": "python",
   "pygments_lexer": "ipython3",
   "version": "3.12.3"
  }
 },
 "nbformat": 4,
 "nbformat_minor": 4
}
