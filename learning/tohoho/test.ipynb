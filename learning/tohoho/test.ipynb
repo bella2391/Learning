{
 "cells": [
  {
   "cell_type": "code",
   "execution_count": null,
   "metadata": {},
   "outputs": [],
   "source": [
    "print(\"Hello world!\")"
   ]
  },
  {
   "cell_type": "code",
   "execution_count": null,
   "metadata": {},
   "outputs": [],
   "source": [
    "a = 5\n",
    "b = 3\n",
    "c = a + b\n",
    "print(c)"
   ]
  },
  {
   "cell_type": "code",
   "execution_count": null,
   "metadata": {},
   "outputs": [],
   "source": [
    "total = 123 \\\n",
    "      + 456 \\\n",
    "      + 789"
   ]
  },
  {
   "cell_type": "code",
   "execution_count": null,
   "metadata": {},
   "outputs": [],
   "source": [
    "month = [ 'Jan', 'Feb', 'Mar', 'Apr'\n",
    "          'May', 'Jun', 'Jul', 'Aug'\n",
    "          'Sep', 'Oct', 'Nov', 'Dec' ]"
   ]
  },
  {
   "cell_type": "code",
   "execution_count": null,
   "metadata": {},
   "outputs": [],
   "source": [
    "# comment text\n",
    "a = 3\n",
    "if a == 5:\n",
    "    print(\"AAA\")\n",
    "    print(\"BBB\")\n",
    "print(\"CCC\")"
   ]
  },
  {
   "cell_type": "code",
   "execution_count": null,
   "metadata": {},
   "outputs": [],
   "source": [
    "print(3)\n",
    "print([ 1, 2, 3 ])\n",
    "print(( 1, 2, 3 ))\n",
    "print({ 'k1': 10, 'k2': 20 })\n",
    "print(\"AAA\", \"BBB\")"
   ]
  },
  {
   "cell_type": "code",
   "execution_count": null,
   "metadata": {},
   "outputs": [],
   "source": [
    "print(\"My name is %s.\" % \"Tanaka\")\n",
    "print(\"%s is %d years old.\" % ( \"Tanaka\", 28 ))\n",
    "print(\"%(name)s is %(age)d years old.\" % { 'name': \"Tanaka\", 'age': 28 })"
   ]
  },
  {
   "cell_type": "code",
   "execution_count": null,
   "metadata": {},
   "outputs": [],
   "source": [
    "f = open(\"test.txt\", \"w\")\n",
    "print(\"Hello world!\", file=f)\n",
    "f.close()"
   ]
  },
  {
   "cell_type": "code",
   "execution_count": null,
   "metadata": {},
   "outputs": [],
   "source": [
    "num = 0b11000100 # binary digits\n",
    "print(num)\n",
    "num = 0o777 # octal\n",
    "print(num)\n",
    "num = 0xffff # hexadecimal\n",
    "print(num)\n",
    "\n",
    "num = 2_1\n",
    "print(num)\n",
    "\n",
    "num = 1.2345\n",
    "print(num)\n",
    "num = 1.2e3 # = 1.2 * 10^3\n",
    "print(num)\n",
    "num = 1.2E-3 # 1.2 * 10^(-3)\n",
    "print(num)\n",
    "\n",
    "num = 3.14j\n",
    "print(num)\n",
    "\n"
   ]
  },
  {
   "cell_type": "code",
   "execution_count": null,
   "metadata": {},
   "outputs": [],
   "source": [
    "bool = True\n",
    "bool = False\n",
    "\n",
    "x = None\n",
    "\n",
    "str = \"'\"\n",
    "str = '\"'\n",
    "\n",
    "str = \"line\\n\"\n",
    "str = r\"line\\n\""
   ]
  },
  {
   "cell_type": "code",
   "execution_count": null,
   "metadata": {},
   "outputs": [],
   "source": [
    "name = \"Yamada\"\n",
    "age = 26\n",
    "print(f\"My name is {name}. I'm {age} years old.\")\n"
   ]
  },
  {
   "cell_type": "code",
   "execution_count": null,
   "metadata": {},
   "outputs": [],
   "source": [
    "import math\n",
    "a = 5\n",
    "b = 3\n",
    "print(f\"{ a + b }\")\n",
    "print(f\"{ math.pow(a, b) }\")"
   ]
  },
  {
   "cell_type": "code",
   "execution_count": null,
   "metadata": {},
   "outputs": [],
   "source": [
    "print(\"{{n}}\")"
   ]
  },
  {
   "cell_type": "code",
   "execution_count": null,
   "metadata": {},
   "outputs": [],
   "source": [
    "s = \"ABC\"\n",
    "print(f\"|{s:<9}|\")\n",
    "print(f\"|{s:^9}|\")\n",
    "print(f\"|{s:>9}|\")"
   ]
  },
  {
   "cell_type": "code",
   "execution_count": 9,
   "metadata": {},
   "outputs": [
    {
     "name": "stdout",
     "output_type": "stream",
     "text": [
      "12,345\n"
     ]
    }
   ],
   "source": [
    "n = 12345\n",
    "print(f\"{n:,}\")"
   ]
  },
  {
   "cell_type": "code",
   "execution_count": null,
   "metadata": {},
   "outputs": [],
   "source": [
    "n = 123\n",
    "print(f\"{n}\")\n",
    "print(f\"{n:b}\") # decimal\n",
    "print(f\"{n:o}\") # octal\n",
    "print(f\"{n:x}\") # hexadecimal lower-case letters\n",
    "print(f\"{n:X}\") # hexadecimal capital letters"
   ]
  },
  {
   "cell_type": "code",
   "execution_count": null,
   "metadata": {},
   "outputs": [],
   "source": [
    "value = \"Hello world!\"\n",
    "print(f\"{value!s}\")\n",
    "print(f\"{value!r}\")\n",
    "print(f\"{value!a}\")\n",
    "\n",
    "name = \"Yamada\"\n",
    "age = 36\n",
    "print(f\"{name=}, {age=}\")"
   ]
  },
  {
   "cell_type": "code",
   "execution_count": 10,
   "metadata": {},
   "outputs": [
    {
     "name": "stdout",
     "output_type": "stream",
     "text": [
      "2024-01-31 23:59:59\n",
      "2024/01/31 23:59:59\n"
     ]
    }
   ],
   "source": [
    "import datetime\n",
    "\n",
    "d = datetime.datetime(2024, 1, 31, 23, 59, 59)\n",
    "print(f\"{d}\")\n",
    "print(f\"{d:%Y/%m/%d %H:%M:%S}\")"
   ]
  },
  {
   "cell_type": "code",
   "execution_count": 11,
   "metadata": {},
   "outputs": [
    {
     "name": "stdout",
     "output_type": "stream",
     "text": [
      "あ\n",
      "b'\\xe3\\x81\\x82'\n"
     ]
    }
   ],
   "source": [
    "byte_string = b\"\\xe3\\x81\\x82\"\n",
    "utf8_string = byte_string.decode()\n",
    "print(utf8_string)\n",
    "\n",
    "utf8_string = \"あ\"\n",
    "byte_string = utf8_string.encode()\n",
    "print(byte_string)"
   ]
  },
  {
   "cell_type": "code",
   "execution_count": null,
   "metadata": {},
   "outputs": [],
   "source": [
    "num = 12\n",
    "if num > 10:\n",
    "    print(\"n is BIG\")\n",
    "elif num == 10:\n",
    "    print(\"n is NORMAL\")\n",
    "else:\n",
    "    print(\"n is SMALL\")"
   ]
  },
  {
   "cell_type": "code",
   "execution_count": null,
   "metadata": {},
   "outputs": [],
   "source": [
    "n = 0\n",
    "while n < 10:\n",
    "    print(n)\n",
    "    n += 1\n",
    "else:\n",
    "    print(\"END\")"
   ]
  },
  {
   "cell_type": "code",
   "execution_count": null,
   "metadata": {},
   "outputs": [],
   "source": [
    "for n in [1, 2, 3]:\n",
    "    print(n)\n",
    "\n",
    "for n in (1, 2, 3):\n",
    "    print(n)\n",
    "\n",
    "for c in \"ABC\":\n",
    "    print(c)\n",
    "\n",
    "for k in {'one': 1, 'two': 2, 'three': 3}:\n",
    "    print(k)\n",
    "\n",
    "for n in range(10):\n",
    "    if n == 5:\n",
    "        break\n",
    "    print(n)"
   ]
  },
  {
   "cell_type": "code",
   "execution_count": 3,
   "metadata": {},
   "outputs": [
    {
     "name": "stdout",
     "output_type": "stream",
     "text": [
      "0\n",
      "1\n",
      "2\n",
      "3\n",
      "4\n"
     ]
    }
   ],
   "source": [
    "for n in range(10):\n",
    "    if n == 5:\n",
    "        break\n",
    "    print(n)"
   ]
  },
  {
   "cell_type": "code",
   "execution_count": 4,
   "metadata": {},
   "outputs": [
    {
     "name": "stdout",
     "output_type": "stream",
     "text": [
      "0\n",
      "1\n",
      "2\n",
      "3\n",
      "4\n",
      "6\n",
      "7\n",
      "8\n",
      "9\n"
     ]
    }
   ],
   "source": [
    "for n in range(10):\n",
    "    if n == 5:\n",
    "        continue\n",
    "    print(n)"
   ]
  },
  {
   "cell_type": "markdown",
   "metadata": {},
   "source": [
    "try, except, else, finally"
   ]
  },
  {
   "cell_type": "code",
   "execution_count": 1,
   "metadata": {},
   "outputs": [
    {
     "name": "stdout",
     "output_type": "stream",
     "text": [
      "IndexError\n",
      "Finally\n"
     ]
    }
   ],
   "source": [
    "str = 'ABC'\n",
    "try:\n",
    "    c = str[5]\n",
    "except IOError:\n",
    "    print('IOError')\n",
    "except IndexError:\n",
    "    print('IndexError')\n",
    "else:\n",
    "    print('Other')\n",
    "finally:\n",
    "    print('Finally')"
   ]
  },
  {
   "cell_type": "markdown",
   "metadata": {},
   "source": [
    "as e"
   ]
  },
  {
   "cell_type": "code",
   "execution_count": 5,
   "metadata": {},
   "outputs": [],
   "source": [
    "try:\n",
    "    pass\n",
    "    # something\n",
    "except SystemError as e:\n",
    "    print(\"SystemError\")\n",
    "    print(e)"
   ]
  },
  {
   "cell_type": "code",
   "execution_count": 6,
   "metadata": {},
   "outputs": [
    {
     "name": "stdout",
     "output_type": "stream",
     "text": [
      "MyError\n",
      "test.txt\n",
      "1163\n"
     ]
    }
   ],
   "source": [
    "class MyError(Exception):\n",
    "    def __init__(self, file, lineno):\n",
    "        self.file = file\n",
    "        self.lineno = lineno\n",
    "try:\n",
    "    raise MyError(\"test.txt\", 1163)\n",
    "except MyError as e:\n",
    "    print(\"MyError\")\n",
    "    print(e.file)\n",
    "    print(e.lineno)"
   ]
  },
  {
   "cell_type": "markdown",
   "metadata": {},
   "source": [
    "with"
   ]
  },
  {
   "cell_type": "code",
   "execution_count": 12,
   "metadata": {},
   "outputs": [
    {
     "name": "stdout",
     "output_type": "stream",
     "text": [
      "this is test\n",
      "this is test\n",
      "this is test\n"
     ]
    }
   ],
   "source": [
    "# not using `with`\n",
    "f = open(\"test.txt\")\n",
    "print(f.read())\n",
    "f.close()\n",
    "\n",
    "# using `with` case 1\n",
    "with open(\"test.txt\") as f:\n",
    "    print(f.read())\n",
    "\n",
    "# using `with`\n",
    "f = open(\"test.txt\")\n",
    "with f:\n",
    "    print(f.read())"
   ]
  },
  {
   "cell_type": "markdown",
   "metadata": {},
   "source": [
    "assert"
   ]
  },
  {
   "cell_type": "code",
   "execution_count": null,
   "metadata": {},
   "outputs": [],
   "source": [
    "def func():\n",
    "    print(\"\")\n",
    "\n",
    "f = func()\n",
    "assert f == 5"
   ]
  },
  {
   "cell_type": "code",
   "execution_count": null,
   "metadata": {},
   "outputs": [],
   "source": [
    "expression = 5\n",
    "\n",
    "# below code equals `assert expression`\n",
    "if __debug__:\n",
    "    if not expression:\n",
    "        raise AssertionError\n",
    "\n",
    "# below code equals `assert expression1, expression2`\n",
    "expression1 = 5\n",
    "expression2 = 5\n",
    "if __debug__:\n",
    "    if not expression1:\n",
    "        raise AssertionError(expression2)\n"
   ]
  },
  {
   "cell_type": "code",
   "execution_count": null,
   "metadata": {},
   "outputs": [],
   "source": [
    "def myfunc():\n",
    "    pass\n",
    "\n",
    "class MyClass:\n",
    "    pass"
   ]
  }
 ],
 "metadata": {
  "kernelspec": {
   "display_name": ".venv",
   "language": "python",
   "name": "python3"
  },
  "language_info": {
   "codemirror_mode": {
    "name": "ipython",
    "version": 3
   },
   "file_extension": ".py",
   "mimetype": "text/x-python",
   "name": "python",
   "nbconvert_exporter": "python",
   "pygments_lexer": "ipython3",
   "version": "3.12.3"
  }
 },
 "nbformat": 4,
 "nbformat_minor": 4
}
